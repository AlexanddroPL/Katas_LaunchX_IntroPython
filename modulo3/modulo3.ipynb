{
 "cells": [
  {
   "cell_type": "markdown",
   "metadata": {},
   "source": [
    "## Alerta Asteroide "
   ]
  },
  {
   "cell_type": "code",
   "execution_count": 1,
   "metadata": {},
   "outputs": [
    {
     "name": "stdout",
     "output_type": "stream",
     "text": [
      "Alerta, Alerta\n"
     ]
    }
   ],
   "source": [
    "velocidad_asteroide = 49 #km/s\n",
    "\n",
    "if(velocidad_asteroide > 25): #km/s\n",
    "    print(\"Alerta, Alerta\")\n",
    "else:\n",
    "    print(\"Todo esta bien!\")\n"
   ]
  },
  {
   "cell_type": "code",
   "execution_count": 2,
   "metadata": {},
   "outputs": [
    {
     "name": "stdout",
     "output_type": "stream",
     "text": [
      "Sin novedades\n"
     ]
    }
   ],
   "source": [
    "velocidad_asteroide = 19 #km/s\n",
    "\n",
    "if(velocidad_asteroide >= 20): #km/s\n",
    "    print(\"Un asteroide pasara cerca de la tierra, busquen en el cielo!\")\n",
    "else:\n",
    "    print(\"Sin novedades\")"
   ]
  },
  {
   "cell_type": "code",
   "execution_count": 5,
   "metadata": {},
   "outputs": [
    {
     "name": "stdout",
     "output_type": "stream",
     "text": [
      "Alerta, alerta! Un asteroide de gran rieso se aproxima!\n"
     ]
    }
   ],
   "source": [
    "tamaño_asteroide = 26 #metros\n",
    "velocidad_asteroide = 49 #km/s\n",
    "\n",
    "if (velocidad_asteroide > 25 and tamaño_asteroide > 25):\n",
    "    print(\"Alerta, alerta! Un asteroide de gran rieso se aproxima!\")\n",
    "elif(velocidad_asteroide >= 20):\n",
    "    print(\"Todo esta bien, posible luces en el cielo! ;) \")\n",
    "elif(tamaño_asteroide < 25):\n",
    "    print(\"Todo OK!\")\n",
    "else:\n",
    "    print(\"Nada que ver aqui!\")"
   ]
  }
 ],
 "metadata": {
  "interpreter": {
   "hash": "385e1683b9a544bc0e4e7a8fe1e5e029d83283a98daeebe78089995214c40b1a"
  },
  "kernelspec": {
   "display_name": "Python 3.10.2 64-bit (windows store)",
   "language": "python",
   "name": "python3"
  },
  "language_info": {
   "codemirror_mode": {
    "name": "ipython",
    "version": 3
   },
   "file_extension": ".py",
   "mimetype": "text/x-python",
   "name": "python",
   "nbconvert_exporter": "python",
   "pygments_lexer": "ipython3",
   "version": "3.10.2"
  },
  "orig_nbformat": 4
 },
 "nbformat": 4,
 "nbformat_minor": 2
}
