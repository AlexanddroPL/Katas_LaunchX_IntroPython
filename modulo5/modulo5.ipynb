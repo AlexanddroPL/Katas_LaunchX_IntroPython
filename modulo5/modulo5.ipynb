{
 "cells": [
  {
   "cell_type": "markdown",
   "metadata": {},
   "source": [
    "## Operadores aritmeticos "
   ]
  },
  {
   "cell_type": "code",
   "execution_count": 4,
   "metadata": {},
   "outputs": [
    {
     "name": "stdout",
     "output_type": "stream",
     "text": [
      "628949330\n",
      "390577533.93\n"
     ]
    }
   ],
   "source": [
    "distancia_planeta1 = 149597870 ## km\n",
    "distancia_planeta2 = 778547200 ## km\n",
    "\n",
    "distancia_entre_planetas = distancia_planeta2 - distancia_planeta1\n",
    "distancia_planetas_millas = distancia_entre_planetas * 0.621\n",
    "\n",
    "print(distancia_entre_planetas)\n",
    "print(distancia_planetas_millas)\n"
   ]
  },
  {
   "cell_type": "markdown",
   "metadata": {},
   "source": [
    "## Input"
   ]
  },
  {
   "cell_type": "code",
   "execution_count": 6,
   "metadata": {},
   "outputs": [
    {
     "name": "stdout",
     "output_type": "stream",
     "text": [
      "1190100000\n",
      "1276474100.0\n"
     ]
    }
   ],
   "source": [
    "first_p = int(input(\"Introduzca la distancia entre el primer planeta y el sol: \"))\n",
    "second_p = int(input(\"Introduzca la distancia entre el segundo planeta y el sol: \"))\n",
    "\n",
    "distance_km = second_p - first_p\n",
    "print(abs(distance_km))\n",
    "\n",
    "distance_mi = second_p - first_p * 0.621\n",
    "print(distance_mi)"
   ]
  }
 ],
 "metadata": {
  "interpreter": {
   "hash": "385e1683b9a544bc0e4e7a8fe1e5e029d83283a98daeebe78089995214c40b1a"
  },
  "kernelspec": {
   "display_name": "Python 3.10.2 64-bit (windows store)",
   "language": "python",
   "name": "python3"
  },
  "language_info": {
   "codemirror_mode": {
    "name": "ipython",
    "version": 3
   },
   "file_extension": ".py",
   "mimetype": "text/x-python",
   "name": "python",
   "nbconvert_exporter": "python",
   "pygments_lexer": "ipython3",
   "version": "3.10.2"
  },
  "orig_nbformat": 4
 },
 "nbformat": 4,
 "nbformat_minor": 2
}
